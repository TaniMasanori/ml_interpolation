{
 "cells": [
  {
   "cell_type": "markdown",
   "metadata": {},
   "source": [
    "# SPECFEM3D Simulation for Seismic Data Generation\n",
    "\n",
    "This notebook demonstrates how to set up and run SPECFEM3D simulations to generate synthetic seismic data for the interpolation project."
   ]
  },
  {
   "cell_type": "code",
   "execution_count": null,
   "metadata": {},
   "outputs": [],
   "source": [
    "import os\n",
    "import sys\n",
    "import numpy as np\n",
    "import matplotlib.pyplot as plt\n",
    "import pandas as pd\n",
    "from pathlib import Path\n",
    "import shutil\n",
    "\n",
    "# Add the project root to path for imports\n",
    "sys.path.append('..')\n",
    "\n",
    "# Import project modules\n",
    "from src.simulation.specfem_runner import SpecfemSimulation\n",
    "from src.utils.logging_utils import setup_logging\n",
    "from src.utils.plot_utils import plot_seismic_trace, plot_seismic_gather\n",
    "\n",
    "# Set up logging\n",
    "logger = setup_logging(level='INFO')"
   ]
  },
  {
   "cell_type": "markdown",
   "metadata": {},
   "source": [
    "## Configuration\n",
    "\n",
    "Define paths and parameters for the simulation."
   ]
  },
  {
   "cell_type": "code",
   "execution_count": null,
   "metadata": {},
   "outputs": [],
   "source": [
    "# Paths\n",
    "specfem_dir = os.path.expanduser(\"~/specfem3d\")  # Path to SPECFEM3D installation\n",
    "notebook_dir = os.path.dirname(os.path.abspath(\"__file__\"))\n",
    "project_root = os.path.abspath(os.path.join(notebook_dir, \"..\"))\n",
    "data_dir = os.path.join(project_root, \"data/synthetic/raw/simulation1\")\n",
    "templates_dir = os.path.join(project_root, \"specfem_simulations\")\n",
    "\n",
    "# Ensure directories exist\n",
    "Path(data_dir).mkdir(parents=True, exist_ok=True)\n",
    "Path(templates_dir).mkdir(parents=True, exist_ok=True)"
   ]
  },
  {
   "cell_type": "code",
   "execution_count": null,
   "metadata": {},
   "outputs": [],
   "source": [
    "# Define simulation parameters\n",
    "simulation_params = {\n",
    "    # General simulation parameters\n",
    "    \"NUMBER_OF_SIMULTANEOUS_RUNS\": 1,  # Usually set to 1 for single simulations\n",
    "    \"NPROC\": 4,  # Number of MPI processes\n",
    "    \"NPROC_XI\": 2,  # Number of processes along X direction\n",
    "    \"NPROC_ETA\": 2,  # Number of processes along Y direction\n",
    "    \"SIMULATION_TYPE\": 1,  # 1 = forward simulation\n",
    "    \"NSTEP\": 4000,  # Number of time steps\n",
    "    \"DT\": 0.001,  # Time step in seconds\n",
    "    \"MODEL\": \"default\",  # Model type\n",
    "    \"SAVE_FORWARD\": \".false.\",  # Don't save forward wavefield\n",
    "    \"USE_OLSEN_ATTENUATION\": \".false.\",  # No attenuation\n",
    "    \"NGNOD\": 8,  # Number of nodes per element\n",
    "    \"ABSORBING_CONDITIONS\": \".true.\",  # Absorbing boundary conditions\n",
    "    \"STACEY_ABSORBING_CONDITIONS\": \".true.\",  # Use Stacey absorbing boundary conditions\n",
    "    \"ATTENUATION\": \".false.\",  # No attenuation\n",
    "    \"USE_RICKER_TIME_FUNCTION\": \".true.\",  # Use Ricker wavelet\n",
    "    \n",
    "    # Output parameters\n",
    "    \"SAVE_SEISMOGRAMS_DISPLACEMENT\": \".true.\",  # Output displacement\n",
    "    \"NTSTEP_BETWEEN_OUTPUT_SEISMOS\": 10,  # Output seismograms every 10 steps\n",
    "    \"USE_BINARY_FOR_SEISMOGRAMS\": \".false.\",  # Save ASCII seismograms\n",
    "    \"SAVE_BINARY_SEISMOGRAMS_SINGLE\": \".true.\",  # Save binary seismograms\n",
    "    \"SAVE_BINARY_SEISMOGRAMS_DOUBLE\": \".false.\",  # Don't save double precision binary\n",
    "    \"USE_EXISTING_STATIONS\": \".true.\",  # Use the STATIONS file we created\n",
    "    \n",
    "    # Cartesian mesh parameters\n",
    "    \"LATITUDE_MIN\": 0.0,  # Min X coordinate of mesh\n",
    "    \"LATITUDE_MAX\": 2000.0,  # Max X coordinate of mesh\n",
    "    \"LONGITUDE_MIN\": 0.0,  # Min Y coordinate of mesh\n",
    "    \"LONGITUDE_MAX\": 2000.0,  # Max Y coordinate of mesh\n",
    "    \"DEPTH_MIN\": 0.0,  # Min Z coordinate of mesh\n",
    "    \"DEPTH_MAX\": 2000.0,  # Max Z coordinate of mesh\n",
    "    \"NEX_XI\": 40,  # Number of elements along X direction\n",
    "    \"NEX_ETA\": 40,  # Number of elements along Y direction\n",
    "    \"NEX_ZETA\": 40,  # Number of elements along Z direction\n",
    "}"
   ]
  },
  {
   "cell_type": "code",
   "execution_count": null,
   "metadata": {},
   "outputs": [],
   "source": [
    "# Define source parameters\n",
    "source_params = {\n",
    "    \"source_surf\": 0,  # Source is inside the medium\n",
    "    \"xs\": 1000.0,  # X position in meters\n",
    "    \"ys\": 1000.0,  # Y position in meters\n",
    "    \"zs\": 500.0,  # Z position in meters (depth positive downward)\n",
    "    \"source_type\": 1,  # 1 = force, 2 = moment tensor\n",
    "    \"time_function_type\": 2,  # Ricker wavelet\n",
    "    \"name_of_source_file\": \"\",  # Not used for simple source\n",
    "    \"burst_band_width\": 0.0,  # Not used for Ricker wavelet\n",
    "    \"f0\": 10.0,  # Central frequency in Hz\n",
    "    \"tshift\": 0.0,  # Time shift\n",
    "    \"anglesource\": 0.0,  # If source_type = 1, angle of force source\n",
    "    \"Mxx\": 1.0,  # If source_type = 2, moment tensor components\n",
    "    \"Mxy\": 0.0,\n",
    "    \"Mxz\": 0.0,\n",
    "    \"Myy\": 1.0,\n",
    "    \"Myz\": 0.0,\n",
    "    \"Mzz\": 1.0\n",
    "}"
   ]
  },
  {
   "cell_type": "markdown",
   "metadata": {},
   "source": [
    "## Set Up Station Locations\n",
    "\n",
    "Define the locations of the receivers (geophones)."
   ]
  },
  {
   "cell_type": "code",
   "execution_count": null,
   "metadata": {},
   "outputs": [
    {
     "name": "stdout",
     "output_type": "stream",
     "text": [
      "Created 20 stations in /home/masa/ml_interpolation/data/synthetic/raw/simulation1/STATIONS\n"
     ]
    }
   ],
   "source": [
    "# Create station locations\n",
    "n_stations = 20\n",
    "stations = pd.DataFrame({\n",
    "    'name': [f'ST{i:03d}' for i in range(1, n_stations + 1)],\n",
    "    'network': ['GE'] * n_stations,\n",
    "    'lat': np.linspace(500, 1500, n_stations),  # X coordinates\n",
    "    'lon': [1000.0] * n_stations,  # Y coordinates\n",
    "    'elevation': [0.0] * n_stations,\n",
    "    'burial': [0.0] * n_stations\n",
    "})\n",
    "\n",
    "# Save stations to file\n",
    "stations_file = os.path.join(data_dir, 'STATIONS')\n",
    "stations.to_csv(stations_file, sep=' ', index=False, header=False)\n",
    "print(f\"Created {n_stations} stations in {stations_file}\")"
   ]
  },
  {
   "cell_type": "markdown",
   "metadata": {},
   "source": [
    "## Run SPECFEM3D Simulation\n",
    "\n",
    "Now we'll run the simulation using our configured parameters."
   ]
  },
  {
   "cell_type": "code",
   "execution_count": null,
   "metadata": {},
   "outputs": [
    {
     "name": "stdout",
     "output_type": "stream",
     "text": [
      "Cleaning previous simulation outputs...\n",
      "Cleaned DATABASES_MPI directory\n",
      "Cleaned OUTPUT_FILES directory\n",
      "2025-03-31 20:23:21 - src.simulation.specfem_runner - INFO - Prepared SOURCE file at /home/masa/ml_interpolation/data/synthetic/raw/simulation1/SOURCE\n",
      "2025-03-31 20:23:21 - src.simulation.specfem_runner - INFO - Prepared STATIONS file with 20 stations\n"
     ]
    },
    {
     "name": "stdout",
     "output_type": "stream",
     "text": [
      "Running xmeshfem3D...\n",
      "Executing: mpirun -np 4 ./bin/xmeshfem3D\n",
      "2025-03-31 20:23:22 - src.simulation.specfem_runner - ERROR - Meshing failed: STOP Error reading Par_file parameter NUMBER_OF_SIMULTANEOUS_RUNS\n",
      "--------------------------------------------------------------------------\n",
      "mpirun has exited due to process rank 0 with PID 0 on\n",
      "node masa-ubuntu22 exiting improperly. There are three reasons this could occur:\n",
      "\n",
      "1. this process did not call \"init\" before exiting, but others in\n",
      "the job did. This can cause a job to hang indefinitely while it waits\n",
      "for all processes to call \"init\". By rule, if one process calls \"init\",\n",
      "then ALL processes must call \"init\" prior to termination.\n",
      "\n",
      "2. this process called \"init\", but exited without calling \"finalize\".\n",
      "By rule, all processes that call \"init\" MUST call \"finalize\" prior to\n",
      "exiting or it will be considered an \"abnormal termination\"\n",
      "\n",
      "3. this process called \"MPI_Abort\" or \"orte_abort\" and the mca parameter\n",
      "orte_create_session_dirs is set to false. In this case, the run-time cannot\n",
      "detect that the abort call was an abnormal termination. Hence, the only\n",
      "error message you will receive is this one.\n",
      "\n",
      "This may have caused other processes in the application to be\n",
      "terminated by signals sent by mpirun (as reported here).\n",
      "\n",
      "You can avoid this message by specifying -quiet on the mpirun command line.\n",
      "--------------------------------------------------------------------------\n",
      "\n",
      "Meshing failed: STOP Error reading Par_file parameter NUMBER_OF_SIMULTANEOUS_RUNS\n",
      "--------------------------------------------------------------------------\n",
      "mpirun has exited due to process rank 0 with PID 0 on\n",
      "node masa-ubuntu22 exiting improperly. There are three reasons this could occur:\n",
      "\n",
      "1. this process did not call \"init\" before exiting, but others in\n",
      "the job did. This can cause a job to hang indefinitely while it waits\n",
      "for all processes to call \"init\". By rule, if one process calls \"init\",\n",
      "then ALL processes must call \"init\" prior to termination.\n",
      "\n",
      "2. this process called \"init\", but exited without calling \"finalize\".\n",
      "By rule, all processes that call \"init\" MUST call \"finalize\" prior to\n",
      "exiting or it will be considered an \"abnormal termination\"\n",
      "\n",
      "3. this process called \"MPI_Abort\" or \"orte_abort\" and the mca parameter\n",
      "orte_create_session_dirs is set to false. In this case, the run-time cannot\n",
      "detect that the abort call was an abnormal termination. Hence, the only\n",
      "error message you will receive is this one.\n",
      "\n",
      "This may have caused other processes in the application to be\n",
      "terminated by signals sent by mpirun (as reported here).\n",
      "\n",
      "You can avoid this message by specifying -quiet on the mpirun command line.\n",
      "--------------------------------------------------------------------------\n",
      "\n"
     ]
    },
    {
     "data": {
      "text/plain": [
       "False"
      ]
     },
     "execution_count": 6,
     "metadata": {},
     "output_type": "execute_result"
    }
   ],
   "source": [
    "# Add NUMBER_OF_SIMULTANEOUS_RUNS to simulation parameters\n",
    "simulation_params.update({\n",
    "    \"BROADCAST_SAME_MESH_AND_MODEL\": \".true.\",\n",
    "    \"USE_REGULAR_MESH\": \".true.\",\n",
    "    \"STACEY_INSTEAD_OF_FREE_SURFACE\": \".false.\",\n",
    "    \"ROTATE_PML_ACTIVATE\": \".false.\",\n",
    "    \"PRINT_SOURCE_TIME_FUNCTION\": \".false.\",\n",
    "    \"GPU_MODE\": \".false.\",\n",
    "    \"SAVE_MESH_FILES\": \".false.\",\n",
    "    \"SUPPRESS_UTM_PROJECTION\": \".true.\"  # Use Cartesian coordinates directly\n",
    "})\n",
    "\n",
    "# Initialize simulation with explicit number of processes\n",
    "simulation = SpecfemSimulation(\n",
    "    specfem_dir=specfem_dir,\n",
    "    output_dir=data_dir,\n",
    "    nproc=simulation_params[\"NPROC\"]\n",
    ")\n",
    "\n",
    "# Run the full simulation with our complete parameter set\n",
    "simulation.run_full_simulation(\n",
    "    simulation_params=simulation_params,\n",
    "    source_params=source_params,\n",
    "    stations_list=stations.to_dict('records')\n",
    ")"
   ]
  },
  {
   "cell_type": "markdown",
   "metadata": {},
   "source": [
    "## Visualize Results\n",
    "\n",
    "Plot the generated seismograms."
   ]
  },
  {
   "cell_type": "code",
   "execution_count": null,
   "metadata": {},
   "outputs": [
    {
     "ename": "TypeError",
     "evalue": "plot_seismic_trace() got an unexpected keyword argument 'station'",
     "output_type": "error",
     "traceback": [
      "\u001b[0;31m---------------------------------------------------------------------------\u001b[0m",
      "\u001b[0;31mTypeError\u001b[0m                                 Traceback (most recent call last)",
      "Cell \u001b[0;32mIn[7], line 3\u001b[0m\n\u001b[1;32m      1\u001b[0m \u001b[38;5;66;03m# Plot individual traces\u001b[39;00m\n\u001b[1;32m      2\u001b[0m seismogram_dir \u001b[38;5;241m=\u001b[39m os\u001b[38;5;241m.\u001b[39mpath\u001b[38;5;241m.\u001b[39mjoin(data_dir, \u001b[38;5;124m'\u001b[39m\u001b[38;5;124mOUTPUT_FILES\u001b[39m\u001b[38;5;124m'\u001b[39m)\n\u001b[0;32m----> 3\u001b[0m \u001b[43mplot_seismic_trace\u001b[49m\u001b[43m(\u001b[49m\u001b[43mseismogram_dir\u001b[49m\u001b[43m,\u001b[49m\u001b[43m \u001b[49m\u001b[43mstation\u001b[49m\u001b[38;5;241;43m=\u001b[39;49m\u001b[38;5;124;43m'\u001b[39;49m\u001b[38;5;124;43mST001\u001b[39;49m\u001b[38;5;124;43m'\u001b[39;49m\u001b[43m)\u001b[49m\n\u001b[1;32m      5\u001b[0m \u001b[38;5;66;03m# Plot gather\u001b[39;00m\n\u001b[1;32m      6\u001b[0m plot_seismic_gather(seismogram_dir)\n",
      "\u001b[0;31mTypeError\u001b[0m: plot_seismic_trace() got an unexpected keyword argument 'station'"
     ]
    }
   ],
   "source": [
    "# Plot individual traces\n",
    "seismogram_dir = os.path.join(data_dir, 'OUTPUT_FILES')\n",
    "plot_seismic_trace(seismogram_dir, station='ST001')\n",
    "\n",
    "# Plot gather\n",
    "plot_seismic_gather(seismogram_dir)"
   ]
  }
 ],
 "metadata": {
  "kernelspec": {
   "display_name": "Python 3",
   "language": "python",
   "name": "python3"
  }
 },
 "nbformat": 4,
 "nbformat_minor": 4
}
